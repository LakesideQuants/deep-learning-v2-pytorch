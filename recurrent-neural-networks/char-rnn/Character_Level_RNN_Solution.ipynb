{
 "cells": [
  {
   "cell_type": "markdown",
   "metadata": {},
   "source": [
    "# Character-Level LSTM in PyTorch\n",
    "\n",
    "In this notebook, I'll construct a character-level LSTM with PyTorch. The network will train character by character on some text, then generate new text character by character. As an example, I will train on Anna Karenina. **This model will be able to generate new text based on the text from the book!**\n",
    "\n",
    "This network is based off of Andrej Karpathy's [post on RNNs](http://karpathy.github.io/2015/05/21/rnn-effectiveness/) and [implementation in Torch](https://github.com/karpathy/char-rnn). Below is the general architecture of the character-wise RNN.\n",
    "\n",
    "<img src=\"assets/charseq.jpeg\" width=\"500\">"
   ]
  },
  {
   "cell_type": "markdown",
   "metadata": {},
   "source": [
    "First let's load in our required resources for data loading and model creation."
   ]
  },
  {
   "cell_type": "code",
   "execution_count": 1,
   "metadata": {
    "collapsed": true
   },
   "outputs": [],
   "source": [
    "import numpy as np\n",
    "import torch\n",
    "from torch import nn\n",
    "import torch.nn.functional as F"
   ]
  },
  {
   "cell_type": "markdown",
   "metadata": {},
   "source": [
    "## Load in Data\n",
    "\n",
    "Then, we'll load the Anna Karenina text file and convert it into integers for our network to use. "
   ]
  },
  {
   "cell_type": "code",
   "execution_count": 2,
   "metadata": {
    "collapsed": true
   },
   "outputs": [],
   "source": [
    "# open text file and read in data as `text`\n",
    "with open('data/anna.txt', 'r') as f:\n",
    "    text = f.read()"
   ]
  },
  {
   "cell_type": "markdown",
   "metadata": {},
   "source": [
    "Let's check out the first 100 characters, make sure everything is peachy. According to the [American Book Review](http://americanbookreview.org/100bestlines.asp), this is the 6th best first line of a book ever."
   ]
  },
  {
   "cell_type": "code",
   "execution_count": 3,
   "metadata": {},
   "outputs": [
    {
     "data": {
      "text/plain": [
       "'Chapter 1\\n\\n\\nHappy families are all alike; every unhappy family is unhappy in its own\\nway.\\n\\nEverythin'"
      ]
     },
     "execution_count": 3,
     "metadata": {},
     "output_type": "execute_result"
    }
   ],
   "source": [
    "text[:100]"
   ]
  },
  {
   "cell_type": "markdown",
   "metadata": {},
   "source": [
    "### Tokenization\n",
    "\n",
    "In the cells, below, I'm creating a couple **dictionaries** to convert the characters to and from integers. Encoding the characters as integers makes it easier to use as input in the network."
   ]
  },
  {
   "cell_type": "code",
   "execution_count": 4,
   "metadata": {
    "collapsed": true
   },
   "outputs": [],
   "source": [
    "# encode the text and map each character to an integer and vice versa\n",
    "\n",
    "# we create two dictionaries:\n",
    "# 1. int2char, which maps integers to characters\n",
    "# 2. char2int, which maps characters to unique integers\n",
    "chars = tuple(set(text))\n",
    "int2char = dict(enumerate(chars))\n",
    "char2int = {ch: ii for ii, ch in int2char.items()}\n",
    "\n",
    "# encode the text\n",
    "encoded = np.array([char2int[ch] for ch in text])"
   ]
  },
  {
   "cell_type": "markdown",
   "metadata": {},
   "source": [
    "And we can see those same characters from above, encoded as integers."
   ]
  },
  {
   "cell_type": "code",
   "execution_count": 5,
   "metadata": {},
   "outputs": [
    {
     "data": {
      "text/plain": [
       "array([37, 29, 55,  6, 78, 82, 76, 53, 38, 49, 49, 49, 27, 55,  6,  6, 68,\n",
       "       53,  3, 55, 57, 14, 28, 14, 82, 21, 53, 55, 76, 82, 53, 55, 28, 28,\n",
       "       53, 55, 28, 14, 10, 82,  5, 53, 82, 31, 82, 76, 68, 53, 77, 42, 29,\n",
       "       55,  6,  6, 68, 53,  3, 55, 57, 14, 28, 68, 53, 14, 21, 53, 77, 42,\n",
       "       29, 55,  6,  6, 68, 53, 14, 42, 53, 14, 78, 21, 53, 32, 50, 42, 49,\n",
       "       50, 55, 68, 79, 49, 49, 70, 31, 82, 76, 68, 78, 29, 14, 42])"
      ]
     },
     "execution_count": 5,
     "metadata": {},
     "output_type": "execute_result"
    }
   ],
   "source": [
    "encoded[:100]"
   ]
  },
  {
   "cell_type": "markdown",
   "metadata": {},
   "source": [
    "## Pre-processing the data\n",
    "\n",
    "As you can see in our char-RNN image above, our LSTM expects an input that is **one-hot encoded** meaning that each character is converted into an integer (via our created dictionary) and *then* converted into a column vector where only it's corresponding integer index will have the value of 1 and the rest of the vector will be filled with 0's. Since we're one-hot encoding the data, let's make a function to do that!\n"
   ]
  },
  {
   "cell_type": "code",
   "execution_count": 6,
   "metadata": {
    "collapsed": true
   },
   "outputs": [],
   "source": [
    "def one_hot_encode(arr, n_labels):\n",
    "    \n",
    "    # Initialize the the encoded array\n",
    "    one_hot = np.zeros((arr.size, n_labels), dtype=np.float32)\n",
    "    \n",
    "    # Fill the appropriate elements with ones\n",
    "    one_hot[np.arange(one_hot.shape[0]), arr.flatten()] = 1.\n",
    "    \n",
    "    # Finally reshape it to get back to the original array\n",
    "    one_hot = one_hot.reshape((*arr.shape, n_labels))\n",
    "    \n",
    "    return one_hot"
   ]
  },
  {
   "cell_type": "code",
   "execution_count": 7,
   "metadata": {},
   "outputs": [
    {
     "name": "stdout",
     "output_type": "stream",
     "text": [
      "[[[0. 0. 0. 1. 0. 0. 0. 0.]\n",
      "  [0. 0. 0. 0. 0. 1. 0. 0.]\n",
      "  [0. 1. 0. 0. 0. 0. 0. 0.]]]\n"
     ]
    }
   ],
   "source": [
    "# check that the function works as expected\n",
    "test_seq = np.array([[3, 5, 1]])\n",
    "one_hot = one_hot_encode(test_seq, 8)\n",
    "\n",
    "print(one_hot)"
   ]
  },
  {
   "cell_type": "markdown",
   "metadata": {},
   "source": [
    "## Making training mini-batches\n",
    "\n",
    "\n",
    "To train on this data, we also want to create mini-batches for training. Remember that we want our batches to be multiple sequences of some desired number of sequence steps. Considering a simple example, our batches would look like this:\n",
    "\n",
    "<img src=\"assets/sequence_batching@1x.png\" width=500px>\n",
    "\n",
    "\n",
    "<br>\n",
    "\n",
    "In this example, we'll take the encoded characters (passed in as the `arr` parameter) and split them into multiple sequences, given by `batch_size`. Each of our sequences will be `seq_length` long.\n",
    "\n",
    "### Creating Batches\n",
    "\n",
    "**1. The first thing we need to do is discard some of the text so we only have completely full mini-batches. **\n",
    "\n",
    "Each batch contains $N \\times M$ characters, where $N$ is the batch size (the number of sequences in a batch) and $M$ is the seq_length or number of time steps in a sequence. Then, to get the total number of batches, $K$, that we can make from the array `arr`, you divide the length of `arr` by the number of characters per batch. Once you know the number of batches, you can get the total number of characters to keep from `arr`, $N * M * K$.\n",
    "\n",
    "**2. After that, we need to split `arr` into $N$ batches. ** \n",
    "\n",
    "You can do this using `arr.reshape(size)` where `size` is a tuple containing the dimensions sizes of the reshaped array. We know we want $N$ sequences in a batch, so let's make that the size of the first dimension. For the second dimension, you can use `-1` as a placeholder in the size, it'll fill up the array with the appropriate data for you. After this, you should have an array that is $N \\times (M * K)$.\n",
    "\n",
    "**3. Now that we have this array, we can iterate through it to get our mini-batches. **\n",
    "\n",
    "The idea is each batch is a $N \\times M$ window on the $N \\times (M * K)$ array. For each subsequent batch, the window moves over by `seq_length`. We also want to create both the input and target arrays. Remember that the targets are just the inputs shifted over by one character. The way I like to do this window is use `range` to take steps of size `n_steps` from $0$ to `arr.shape[1]`, the total number of tokens in each sequence. That way, the integers you get from `range` always point to the start of a batch, and each window is `seq_length` wide.\n",
    "\n",
    "> **TODO:** Write the code for creating batches in the function below. The exercises in this notebook _will not be easy_. I've provided a notebook with solutions alongside this notebook. If you get stuck, checkout the solutions. The most important thing is that you don't copy and paste the code into here, **type out the solution code yourself.**"
   ]
  },
  {
   "cell_type": "code",
   "execution_count": 8,
   "metadata": {
    "collapsed": true
   },
   "outputs": [],
   "source": [
    "def get_batches(arr, batch_size, seq_length):\n",
    "    '''Create a generator that returns batches of size\n",
    "       batch_size x seq_length from arr.\n",
    "       \n",
    "       Arguments\n",
    "       ---------\n",
    "       arr: Array you want to make batches from\n",
    "       batch_size: Batch size, the number of sequences per batch\n",
    "       seq_length: Number of encoded chars in a sequence\n",
    "    '''\n",
    "    \n",
    "    batch_size_total = batch_size * seq_length\n",
    "    # total number of batches we can make\n",
    "    n_batches = len(arr)//batch_size_total\n",
    "    \n",
    "    # Keep only enough characters to make full batches\n",
    "    arr = arr[:n_batches * batch_size_total]\n",
    "    # Reshape into batch_size rows\n",
    "    arr = arr.reshape((batch_size, -1))\n",
    "    \n",
    "    # iterate through the array, one sequence at a time\n",
    "    for n in range(0, arr.shape[1], seq_length):\n",
    "        # The features\n",
    "        x = arr[:, n:n+seq_length]\n",
    "        # The targets, shifted by one\n",
    "        y = np.zeros_like(x)\n",
    "        try:\n",
    "            y[:, :-1], y[:, -1] = x[:, 1:], arr[:, n+seq_length]\n",
    "        except IndexError:\n",
    "            y[:, :-1], y[:, -1] = x[:, 1:], arr[:, 0]\n",
    "        yield x, y"
   ]
  },
  {
   "cell_type": "markdown",
   "metadata": {},
   "source": [
    "### Test Your Implementation\n",
    "\n",
    "Now I'll make some data sets and we can check out what's going on as we batch data. Here, as an example, I'm going to use a batch size of 8 and 50 sequence steps."
   ]
  },
  {
   "cell_type": "code",
   "execution_count": 9,
   "metadata": {
    "collapsed": true
   },
   "outputs": [],
   "source": [
    "batches = get_batches(encoded, 8, 50)\n",
    "x, y = next(batches)"
   ]
  },
  {
   "cell_type": "code",
   "execution_count": 10,
   "metadata": {},
   "outputs": [
    {
     "name": "stdout",
     "output_type": "stream",
     "text": [
      "x\n",
      " [[37 29 55  6 78 82 76 53 38 49]\n",
      " [21 32 42 53 78 29 55 78 53 55]\n",
      " [82 42 62 53 32 76 53 55 53  3]\n",
      " [21 53 78 29 82 53 39 29 14 82]\n",
      " [53 21 55 50 53 29 82 76 53 78]\n",
      " [39 77 21 21 14 32 42 53 55 42]\n",
      " [53 26 42 42 55 53 29 55 62 53]\n",
      " [63 45 28 32 42 21 10 68 79 53]]\n",
      "\n",
      "y\n",
      " [[29 55  6 78 82 76 53 38 49 49]\n",
      " [32 42 53 78 29 55 78 53 55 78]\n",
      " [42 62 53 32 76 53 55 53  3 32]\n",
      " [53 78 29 82 53 39 29 14 82  3]\n",
      " [21 55 50 53 29 82 76 53 78 82]\n",
      " [77 21 21 14 32 42 53 55 42 62]\n",
      " [26 42 42 55 53 29 55 62 53 21]\n",
      " [45 28 32 42 21 10 68 79 53 51]]\n"
     ]
    }
   ],
   "source": [
    "# printing out the first 10 items in a sequence\n",
    "print('x\\n', x[:10, :10])\n",
    "print('\\ny\\n', y[:10, :10])"
   ]
  },
  {
   "cell_type": "markdown",
   "metadata": {},
   "source": [
    "If you implemented `get_batches` correctly, the above output should look something like \n",
    "```\n",
    "x\n",
    " [[25  8 60 11 45 27 28 73  1  2]\n",
    " [17  7 20 73 45  8 60 45 73 60]\n",
    " [27 20 80 73  7 28 73 60 73 65]\n",
    " [17 73 45  8 27 73 66  8 46 27]\n",
    " [73 17 60 12 73  8 27 28 73 45]\n",
    " [66 64 17 17 46  7 20 73 60 20]\n",
    " [73 76 20 20 60 73  8 60 80 73]\n",
    " [47 35 43  7 20 17 24 50 37 73]]\n",
    "\n",
    "y\n",
    " [[ 8 60 11 45 27 28 73  1  2  2]\n",
    " [ 7 20 73 45  8 60 45 73 60 45]\n",
    " [20 80 73  7 28 73 60 73 65  7]\n",
    " [73 45  8 27 73 66  8 46 27 65]\n",
    " [17 60 12 73  8 27 28 73 45 27]\n",
    " [64 17 17 46  7 20 73 60 20 80]\n",
    " [76 20 20 60 73  8 60 80 73 17]\n",
    " [35 43  7 20 17 24 50 37 73 36]]\n",
    " ```\n",
    " although the exact numbers may be different. Check to make sure the data is shifted over one step for `y`."
   ]
  },
  {
   "cell_type": "markdown",
   "metadata": {},
   "source": [
    "---\n",
    "## Defining the network with PyTorch\n",
    "\n",
    "Below is where you'll define the network.\n",
    "\n",
    "<img src=\"assets/charRNN.png\" width=500px>\n",
    "\n",
    "Next, you'll use PyTorch to define the architecture of the network. We start by defining the layers and operations we want. Then, define a method for the forward pass. You've also been given a method for predicting characters."
   ]
  },
  {
   "cell_type": "markdown",
   "metadata": {},
   "source": [
    "### Model Structure\n",
    "\n",
    "In `__init__` the suggested structure is as follows:\n",
    "* Create and store the necessary dictionaries (this has been done for you)\n",
    "* Define an LSTM layer that takes as params: an input size (the number of characters), a hidden layer size `n_hidden`, a number of layers `n_layers`, a dropout probability `drop_prob`, and a batch_first boolean (True, since we are batching)\n",
    "* Define a dropout layer with `drop_prob`\n",
    "* Define a fully-connected layer with params: input size `n_hidden` and output size (the number of characters)\n",
    "* Finally, initialize the weights (again, this has been given)\n",
    "\n",
    "Note that some parameters have been named and given in the `__init__` function, and we use them and store them by doing something like `self.drop_prob = drop_prob`."
   ]
  },
  {
   "cell_type": "markdown",
   "metadata": {},
   "source": [
    "---\n",
    "### LSTM Inputs/Outputs\n",
    "\n",
    "You can create a basic [LSTM layer](https://pytorch.org/docs/stable/nn.html#lstm) as follows\n",
    "\n",
    "```python\n",
    "self.lstm = nn.LSTM(input_size, n_hidden, n_layers, \n",
    "                            dropout=drop_prob, batch_first=True)\n",
    "```\n",
    "\n",
    "where `input_size` is the number of characters this cell expects to see as sequential input, and `n_hidden` is the number of units in the hidden layers in the cell. And we can add dropout by adding a dropout parameter with a specified probability; this will automatically add dropout to the inputs or outputs. Finally, in the `forward` function, we can stack up the LSTM cells into layers using `.view`. With this, you pass in a list of cells and it will send the output of one cell into the next cell.\n",
    "\n",
    "We also need to create an initial hidden state of all zeros. This is done like so\n",
    "\n",
    "```python\n",
    "self.init_hidden()\n",
    "```"
   ]
  },
  {
   "cell_type": "code",
   "execution_count": 11,
   "metadata": {},
   "outputs": [
    {
     "name": "stdout",
     "output_type": "stream",
     "text": [
      "Training on GPU!\n"
     ]
    }
   ],
   "source": [
    "# check if GPU is available\n",
    "train_on_gpu = torch.cuda.is_available()\n",
    "if(train_on_gpu):\n",
    "    print('Training on GPU!')\n",
    "else: \n",
    "    print('No GPU available, training on CPU; consider making n_epochs very small.')"
   ]
  },
  {
   "cell_type": "code",
   "execution_count": 12,
   "metadata": {
    "collapsed": true
   },
   "outputs": [],
   "source": [
    "class CharRNN(nn.Module):\n",
    "    \n",
    "    def __init__(self, tokens, n_hidden=256, n_layers=2,\n",
    "                               drop_prob=0.5, lr=0.001):\n",
    "        super().__init__()\n",
    "        self.drop_prob = drop_prob\n",
    "        self.n_layers = n_layers\n",
    "        self.n_hidden = n_hidden\n",
    "        self.lr = lr\n",
    "        \n",
    "        # creating character dictionaries\n",
    "        self.chars = tokens\n",
    "        self.int2char = dict(enumerate(self.chars))\n",
    "        self.char2int = {ch: ii for ii, ch in self.int2char.items()}\n",
    "        \n",
    "        ## TODO: define the LSTM\n",
    "        self.lstm = nn.LSTM(len(self.chars), n_hidden, n_layers, \n",
    "                            dropout=drop_prob, batch_first=True)\n",
    "        \n",
    "        ## TODO: define a dropout layer\n",
    "        self.dropout = nn.Dropout(drop_prob)\n",
    "        \n",
    "        ## TODO: define the final, fully-connected output layer\n",
    "        self.fc = nn.Linear(n_hidden, len(self.chars))\n",
    "      \n",
    "    \n",
    "    def forward(self, x, hidden):\n",
    "        ''' Forward pass through the network. \n",
    "            These inputs are x, and the hidden/cell state `hidden`. '''\n",
    "                \n",
    "        ## TODO: Get the outputs and the new hidden state from the lstm\n",
    "        r_output, hidden = self.lstm(x, hidden)\n",
    "        \n",
    "        ## TODO: pass through a dropout layer\n",
    "        out = self.dropout(r_output)\n",
    "        \n",
    "        # Stack up LSTM outputs using view\n",
    "        # you may need to use contiguous to reshape the output\n",
    "        out = out.contiguous().view(-1, self.n_hidden)\n",
    "        \n",
    "        ## TODO: put x through the fully-connected layer\n",
    "        out = self.fc(out)\n",
    "        \n",
    "        # return the final output and the hidden state\n",
    "        return out, hidden\n",
    "    \n",
    "    \n",
    "    def init_hidden(self, batch_size):\n",
    "        ''' Initializes hidden state '''\n",
    "        # Create two new tensors with sizes n_layers x batch_size x n_hidden,\n",
    "        # initialized to zero, for hidden state and cell state of LSTM\n",
    "        weight = next(self.parameters()).data\n",
    "        \n",
    "        if (train_on_gpu):\n",
    "            hidden = (weight.new(self.n_layers, batch_size, self.n_hidden).zero_().cuda(),\n",
    "                  weight.new(self.n_layers, batch_size, self.n_hidden).zero_().cuda())\n",
    "        else:\n",
    "            hidden = (weight.new(self.n_layers, batch_size, self.n_hidden).zero_(),\n",
    "                      weight.new(self.n_layers, batch_size, self.n_hidden).zero_())\n",
    "        \n",
    "        return hidden\n",
    "        "
   ]
  },
  {
   "cell_type": "markdown",
   "metadata": {},
   "source": [
    "## Time to train\n",
    "\n",
    "The train function gives us the ability to set the number of epochs, the learning rate, and other parameters.\n",
    "\n",
    "Below we're using an Adam optimizer and cross entropy loss since we are looking at character class scores as output. We calculate the loss and perform backpropagation, as usual!\n",
    "\n",
    "A couple of details about training: \n",
    ">* Within the batch loop, we detach the hidden state from its history; this time setting it equal to a new *tuple* variable because an LSTM has a hidden state that is a tuple of the hidden and cell states.\n",
    "* We use [`clip_grad_norm_`](https://pytorch.org/docs/stable/_modules/torch/nn/utils/clip_grad.html) to help prevent exploding gradients."
   ]
  },
  {
   "cell_type": "code",
   "execution_count": 13,
   "metadata": {
    "collapsed": true
   },
   "outputs": [],
   "source": [
    "def train(net, data, epochs=10, batch_size=10, seq_length=50, lr=0.001, clip=5, val_frac=0.1, print_every=10):\n",
    "    ''' Training a network \n",
    "    \n",
    "        Arguments\n",
    "        ---------\n",
    "        \n",
    "        net: CharRNN network\n",
    "        data: text data to train the network\n",
    "        epochs: Number of epochs to train\n",
    "        batch_size: Number of mini-sequences per mini-batch, aka batch size\n",
    "        seq_length: Number of character steps per mini-batch\n",
    "        lr: learning rate\n",
    "        clip: gradient clipping\n",
    "        val_frac: Fraction of data to hold out for validation\n",
    "        print_every: Number of steps for printing training and validation loss\n",
    "    \n",
    "    '''\n",
    "    net.train()\n",
    "    \n",
    "    opt = torch.optim.Adam(net.parameters(), lr=lr)\n",
    "    criterion = nn.CrossEntropyLoss()\n",
    "    \n",
    "    # create training and validation data\n",
    "    val_idx = int(len(data)*(1-val_frac))\n",
    "    data, val_data = data[:val_idx], data[val_idx:]\n",
    "    \n",
    "    if(train_on_gpu):\n",
    "        net.cuda()\n",
    "    \n",
    "    counter = 0\n",
    "    n_chars = len(net.chars)\n",
    "    for e in range(epochs):\n",
    "        # initialize hidden state\n",
    "        h = net.init_hidden(batch_size)\n",
    "        \n",
    "        for x, y in get_batches(data, batch_size, seq_length):\n",
    "            counter += 1\n",
    "            \n",
    "            # One-hot encode our data and make them Torch tensors\n",
    "            x = one_hot_encode(x, n_chars)\n",
    "            inputs, targets = torch.from_numpy(x), torch.from_numpy(y)\n",
    "            \n",
    "            if(train_on_gpu):\n",
    "                inputs, targets = inputs.cuda(), targets.cuda()\n",
    "\n",
    "            # Creating new variables for the hidden state, otherwise\n",
    "            # we'd backprop through the entire training history\n",
    "            h = tuple([each.data for each in h])\n",
    "\n",
    "            # zero accumulated gradients\n",
    "            net.zero_grad()\n",
    "            \n",
    "            # get the output from the model\n",
    "            output, h = net(inputs, h)\n",
    "            \n",
    "            # calculate the loss and perform backprop\n",
    "            loss = criterion(output, targets.view(batch_size*seq_length).long())\n",
    "            loss.backward()\n",
    "            # `clip_grad_norm` helps prevent the exploding gradient problem in RNNs / LSTMs.\n",
    "            nn.utils.clip_grad_norm_(net.parameters(), clip)\n",
    "            opt.step()\n",
    "            \n",
    "            # loss stats\n",
    "            if counter % print_every == 0:\n",
    "                # Get validation loss\n",
    "                val_h = net.init_hidden(batch_size)\n",
    "                val_losses = []\n",
    "                net.eval()\n",
    "                for x, y in get_batches(val_data, batch_size, seq_length):\n",
    "                    # One-hot encode our data and make them Torch tensors\n",
    "                    x = one_hot_encode(x, n_chars)\n",
    "                    x, y = torch.from_numpy(x), torch.from_numpy(y)\n",
    "                    \n",
    "                    # Creating new variables for the hidden state, otherwise\n",
    "                    # we'd backprop through the entire training history\n",
    "                    val_h = tuple([each.data for each in val_h])\n",
    "                    \n",
    "                    inputs, targets = x, y\n",
    "                    if(train_on_gpu):\n",
    "                        inputs, targets = inputs.cuda(), targets.cuda()\n",
    "\n",
    "                    output, val_h = net(inputs, val_h)\n",
    "                    val_loss = criterion(output, targets.view(batch_size*seq_length).long())\n",
    "                \n",
    "                    val_losses.append(val_loss.item())\n",
    "                \n",
    "                net.train() # reset to train mode after iterationg through validation data\n",
    "                \n",
    "                print(\"Epoch: {}/{}...\".format(e+1, epochs),\n",
    "                      \"Step: {}...\".format(counter),\n",
    "                      \"Loss: {:.4f}...\".format(loss.item()),\n",
    "                      \"Val Loss: {:.4f}\".format(np.mean(val_losses)))"
   ]
  },
  {
   "cell_type": "markdown",
   "metadata": {},
   "source": [
    "## Instantiating the model\n",
    "\n",
    "Now we can actually train the network. First we'll create the network itself, with some given hyperparameters. Then, define the mini-batches sizes, and start training!"
   ]
  },
  {
   "cell_type": "code",
   "execution_count": 14,
   "metadata": {},
   "outputs": [
    {
     "name": "stdout",
     "output_type": "stream",
     "text": [
      "CharRNN(\n",
      "  (lstm): LSTM(83, 512, num_layers=2, batch_first=True, dropout=0.5)\n",
      "  (dropout): Dropout(p=0.5, inplace=False)\n",
      "  (fc): Linear(in_features=512, out_features=83, bias=True)\n",
      ")\n"
     ]
    }
   ],
   "source": [
    "# define and print the net\n",
    "n_hidden=512\n",
    "n_layers=2\n",
    "\n",
    "net = CharRNN(chars, n_hidden, n_layers)\n",
    "print(net)"
   ]
  },
  {
   "cell_type": "code",
   "execution_count": 15,
   "metadata": {},
   "outputs": [
    {
     "data": {
      "text/plain": [
       "=================================================================\n",
       "Layer (type:depth-idx)                   Param #\n",
       "=================================================================\n",
       "CharRNN                                  --\n",
       "├─LSTM: 1-1                              3,323,904\n",
       "├─Dropout: 1-2                           --\n",
       "├─Linear: 1-3                            42,579\n",
       "=================================================================\n",
       "Total params: 3,366,483\n",
       "Trainable params: 3,366,483\n",
       "Non-trainable params: 0\n",
       "================================================================="
      ]
     },
     "execution_count": 15,
     "metadata": {},
     "output_type": "execute_result"
    }
   ],
   "source": [
    "from torchinfo import summary\n",
    "summary(net)"
   ]
  },
  {
   "cell_type": "code",
   "execution_count": 16,
   "metadata": {
    "scrolled": true
   },
   "outputs": [
    {
     "name": "stdout",
     "output_type": "stream",
     "text": [
      "Epoch: 1/20... Step: 10... Loss: 3.2761... Val Loss: 3.2127\n",
      "Epoch: 1/20... Step: 20... Loss: 3.1590... Val Loss: 3.1342\n",
      "Epoch: 1/20... Step: 30... Loss: 3.1430... Val Loss: 3.1232\n",
      "Epoch: 1/20... Step: 40... Loss: 3.1136... Val Loss: 3.1196\n",
      "Epoch: 1/20... Step: 50... Loss: 3.1450... Val Loss: 3.1174\n",
      "Epoch: 1/20... Step: 60... Loss: 3.1174... Val Loss: 3.1153\n",
      "Epoch: 1/20... Step: 70... Loss: 3.1062... Val Loss: 3.1122\n",
      "Epoch: 1/20... Step: 80... Loss: 3.1160... Val Loss: 3.1051\n",
      "Epoch: 1/20... Step: 90... Loss: 3.1038... Val Loss: 3.0870\n",
      "Epoch: 1/20... Step: 100... Loss: 3.0581... Val Loss: 3.0481\n",
      "Epoch: 1/20... Step: 110... Loss: 2.9881... Val Loss: 2.9573\n",
      "Epoch: 1/20... Step: 120... Loss: 2.8673... Val Loss: 2.8658\n",
      "Epoch: 1/20... Step: 130... Loss: 2.8077... Val Loss: 2.7686\n",
      "Epoch: 2/20... Step: 140... Loss: 2.6881... Val Loss: 2.6403\n",
      "Epoch: 2/20... Step: 150... Loss: 2.5935... Val Loss: 2.5430\n",
      "Epoch: 2/20... Step: 160... Loss: 2.5163... Val Loss: 2.4787\n",
      "Epoch: 2/20... Step: 170... Loss: 2.4525... Val Loss: 2.4333\n",
      "Epoch: 2/20... Step: 180... Loss: 2.4284... Val Loss: 2.3959\n",
      "Epoch: 2/20... Step: 190... Loss: 2.3752... Val Loss: 2.3672\n",
      "Epoch: 2/20... Step: 200... Loss: 2.3948... Val Loss: 2.3412\n",
      "Epoch: 2/20... Step: 210... Loss: 2.3368... Val Loss: 2.3153\n",
      "Epoch: 2/20... Step: 220... Loss: 2.2986... Val Loss: 2.2811\n",
      "Epoch: 2/20... Step: 230... Loss: 2.2928... Val Loss: 2.2552\n",
      "Epoch: 2/20... Step: 240... Loss: 2.2640... Val Loss: 2.2345\n",
      "Epoch: 2/20... Step: 250... Loss: 2.2027... Val Loss: 2.2035\n",
      "Epoch: 2/20... Step: 260... Loss: 2.1778... Val Loss: 2.1792\n",
      "Epoch: 2/20... Step: 270... Loss: 2.1854... Val Loss: 2.1534\n",
      "Epoch: 3/20... Step: 280... Loss: 2.1771... Val Loss: 2.1329\n",
      "Epoch: 3/20... Step: 290... Loss: 2.1476... Val Loss: 2.1054\n",
      "Epoch: 3/20... Step: 300... Loss: 2.1204... Val Loss: 2.0856\n",
      "Epoch: 3/20... Step: 310... Loss: 2.0852... Val Loss: 2.0648\n",
      "Epoch: 3/20... Step: 320... Loss: 2.0587... Val Loss: 2.0459\n",
      "Epoch: 3/20... Step: 330... Loss: 2.0236... Val Loss: 2.0322\n",
      "Epoch: 3/20... Step: 340... Loss: 2.0539... Val Loss: 2.0097\n",
      "Epoch: 3/20... Step: 350... Loss: 2.0277... Val Loss: 1.9904\n",
      "Epoch: 3/20... Step: 360... Loss: 1.9599... Val Loss: 1.9735\n",
      "Epoch: 3/20... Step: 370... Loss: 1.9911... Val Loss: 1.9593\n",
      "Epoch: 3/20... Step: 380... Loss: 1.9679... Val Loss: 1.9446\n",
      "Epoch: 3/20... Step: 390... Loss: 1.9436... Val Loss: 1.9263\n",
      "Epoch: 3/20... Step: 400... Loss: 1.9142... Val Loss: 1.9159\n",
      "Epoch: 3/20... Step: 410... Loss: 1.9277... Val Loss: 1.8986\n",
      "Epoch: 4/20... Step: 420... Loss: 1.9224... Val Loss: 1.8857\n",
      "Epoch: 4/20... Step: 430... Loss: 1.9084... Val Loss: 1.8692\n",
      "Epoch: 4/20... Step: 440... Loss: 1.8933... Val Loss: 1.8633\n",
      "Epoch: 4/20... Step: 450... Loss: 1.8321... Val Loss: 1.8426\n",
      "Epoch: 4/20... Step: 460... Loss: 1.8206... Val Loss: 1.8336\n",
      "Epoch: 4/20... Step: 470... Loss: 1.8614... Val Loss: 1.8247\n",
      "Epoch: 4/20... Step: 480... Loss: 1.8299... Val Loss: 1.8133\n",
      "Epoch: 4/20... Step: 490... Loss: 1.8355... Val Loss: 1.8015\n",
      "Epoch: 4/20... Step: 500... Loss: 1.8359... Val Loss: 1.7909\n",
      "Epoch: 4/20... Step: 510... Loss: 1.8041... Val Loss: 1.7786\n",
      "Epoch: 4/20... Step: 520... Loss: 1.8127... Val Loss: 1.7684\n",
      "Epoch: 4/20... Step: 530... Loss: 1.7846... Val Loss: 1.7596\n",
      "Epoch: 4/20... Step: 540... Loss: 1.7465... Val Loss: 1.7597\n",
      "Epoch: 4/20... Step: 550... Loss: 1.7921... Val Loss: 1.7402\n",
      "Epoch: 5/20... Step: 560... Loss: 1.7552... Val Loss: 1.7316\n",
      "Epoch: 5/20... Step: 570... Loss: 1.7498... Val Loss: 1.7209\n",
      "Epoch: 5/20... Step: 580... Loss: 1.7234... Val Loss: 1.7130\n",
      "Epoch: 5/20... Step: 590... Loss: 1.7290... Val Loss: 1.7056\n",
      "Epoch: 5/20... Step: 600... Loss: 1.7105... Val Loss: 1.6991\n",
      "Epoch: 5/20... Step: 610... Loss: 1.6953... Val Loss: 1.6908\n",
      "Epoch: 5/20... Step: 620... Loss: 1.6989... Val Loss: 1.6814\n",
      "Epoch: 5/20... Step: 630... Loss: 1.7147... Val Loss: 1.6774\n",
      "Epoch: 5/20... Step: 640... Loss: 1.6826... Val Loss: 1.6666\n",
      "Epoch: 5/20... Step: 650... Loss: 1.6638... Val Loss: 1.6593\n",
      "Epoch: 5/20... Step: 660... Loss: 1.6483... Val Loss: 1.6534\n",
      "Epoch: 5/20... Step: 670... Loss: 1.6749... Val Loss: 1.6488\n",
      "Epoch: 5/20... Step: 680... Loss: 1.6711... Val Loss: 1.6495\n",
      "Epoch: 5/20... Step: 690... Loss: 1.6519... Val Loss: 1.6343\n",
      "Epoch: 6/20... Step: 700... Loss: 1.6501... Val Loss: 1.6282\n",
      "Epoch: 6/20... Step: 710... Loss: 1.6333... Val Loss: 1.6262\n",
      "Epoch: 6/20... Step: 720... Loss: 1.6220... Val Loss: 1.6128\n",
      "Epoch: 6/20... Step: 730... Loss: 1.6482... Val Loss: 1.6130\n",
      "Epoch: 6/20... Step: 740... Loss: 1.6028... Val Loss: 1.6094\n",
      "Epoch: 6/20... Step: 750... Loss: 1.5929... Val Loss: 1.6027\n",
      "Epoch: 6/20... Step: 760... Loss: 1.6342... Val Loss: 1.5991\n",
      "Epoch: 6/20... Step: 770... Loss: 1.6057... Val Loss: 1.5928\n",
      "Epoch: 6/20... Step: 780... Loss: 1.5862... Val Loss: 1.5841\n",
      "Epoch: 6/20... Step: 790... Loss: 1.5746... Val Loss: 1.5824\n",
      "Epoch: 6/20... Step: 800... Loss: 1.5948... Val Loss: 1.5764\n",
      "Epoch: 6/20... Step: 810... Loss: 1.5808... Val Loss: 1.5752\n",
      "Epoch: 6/20... Step: 820... Loss: 1.5347... Val Loss: 1.5666\n",
      "Epoch: 6/20... Step: 830... Loss: 1.5833... Val Loss: 1.5619\n",
      "Epoch: 7/20... Step: 840... Loss: 1.5476... Val Loss: 1.5575\n",
      "Epoch: 7/20... Step: 850... Loss: 1.5599... Val Loss: 1.5545\n",
      "Epoch: 7/20... Step: 860... Loss: 1.5424... Val Loss: 1.5468\n",
      "Epoch: 7/20... Step: 870... Loss: 1.5505... Val Loss: 1.5455\n",
      "Epoch: 7/20... Step: 880... Loss: 1.5447... Val Loss: 1.5449\n",
      "Epoch: 7/20... Step: 890... Loss: 1.5402... Val Loss: 1.5429\n",
      "Epoch: 7/20... Step: 900... Loss: 1.5261... Val Loss: 1.5314\n",
      "Epoch: 7/20... Step: 910... Loss: 1.5106... Val Loss: 1.5288\n",
      "Epoch: 7/20... Step: 920... Loss: 1.5251... Val Loss: 1.5230\n",
      "Epoch: 7/20... Step: 930... Loss: 1.5034... Val Loss: 1.5204\n",
      "Epoch: 7/20... Step: 940... Loss: 1.5172... Val Loss: 1.5193\n",
      "Epoch: 7/20... Step: 950... Loss: 1.5296... Val Loss: 1.5169\n",
      "Epoch: 7/20... Step: 960... Loss: 1.5269... Val Loss: 1.5102\n",
      "Epoch: 7/20... Step: 970... Loss: 1.5299... Val Loss: 1.5074\n",
      "Epoch: 8/20... Step: 980... Loss: 1.5021... Val Loss: 1.5045\n",
      "Epoch: 8/20... Step: 990... Loss: 1.5073... Val Loss: 1.5013\n",
      "Epoch: 8/20... Step: 1000... Loss: 1.4972... Val Loss: 1.5004\n",
      "Epoch: 8/20... Step: 1010... Loss: 1.5302... Val Loss: 1.4959\n",
      "Epoch: 8/20... Step: 1020... Loss: 1.5044... Val Loss: 1.4943\n",
      "Epoch: 8/20... Step: 1030... Loss: 1.4818... Val Loss: 1.4913\n",
      "Epoch: 8/20... Step: 1040... Loss: 1.4954... Val Loss: 1.4832\n",
      "Epoch: 8/20... Step: 1050... Loss: 1.4725... Val Loss: 1.4842\n",
      "Epoch: 8/20... Step: 1060... Loss: 1.4672... Val Loss: 1.4829\n",
      "Epoch: 8/20... Step: 1070... Loss: 1.4807... Val Loss: 1.4803\n",
      "Epoch: 8/20... Step: 1080... Loss: 1.4712... Val Loss: 1.4761\n",
      "Epoch: 8/20... Step: 1090... Loss: 1.4639... Val Loss: 1.4738\n",
      "Epoch: 8/20... Step: 1100... Loss: 1.4582... Val Loss: 1.4680\n",
      "Epoch: 8/20... Step: 1110... Loss: 1.4652... Val Loss: 1.4654\n",
      "Epoch: 9/20... Step: 1120... Loss: 1.4680... Val Loss: 1.4602\n",
      "Epoch: 9/20... Step: 1130... Loss: 1.4726... Val Loss: 1.4623\n",
      "Epoch: 9/20... Step: 1140... Loss: 1.4615... Val Loss: 1.4582\n",
      "Epoch: 9/20... Step: 1150... Loss: 1.4834... Val Loss: 1.4599\n",
      "Epoch: 9/20... Step: 1160... Loss: 1.4368... Val Loss: 1.4569\n",
      "Epoch: 9/20... Step: 1170... Loss: 1.4469... Val Loss: 1.4531\n",
      "Epoch: 9/20... Step: 1180... Loss: 1.4335... Val Loss: 1.4483\n",
      "Epoch: 9/20... Step: 1190... Loss: 1.4696... Val Loss: 1.4490\n",
      "Epoch: 9/20... Step: 1200... Loss: 1.4218... Val Loss: 1.4446\n",
      "Epoch: 9/20... Step: 1210... Loss: 1.4336... Val Loss: 1.4440\n",
      "Epoch: 9/20... Step: 1220... Loss: 1.4248... Val Loss: 1.4429\n",
      "Epoch: 9/20... Step: 1230... Loss: 1.4085... Val Loss: 1.4395\n",
      "Epoch: 9/20... Step: 1240... Loss: 1.4130... Val Loss: 1.4348\n",
      "Epoch: 9/20... Step: 1250... Loss: 1.4269... Val Loss: 1.4358\n",
      "Epoch: 10/20... Step: 1260... Loss: 1.4375... Val Loss: 1.4314\n",
      "Epoch: 10/20... Step: 1270... Loss: 1.4314... Val Loss: 1.4273\n",
      "Epoch: 10/20... Step: 1280... Loss: 1.4316... Val Loss: 1.4279\n",
      "Epoch: 10/20... Step: 1290... Loss: 1.4242... Val Loss: 1.4308\n",
      "Epoch: 10/20... Step: 1300... Loss: 1.4171... Val Loss: 1.4260\n",
      "Epoch: 10/20... Step: 1310... Loss: 1.4260... Val Loss: 1.4240\n",
      "Epoch: 10/20... Step: 1320... Loss: 1.3884... Val Loss: 1.4203\n",
      "Epoch: 10/20... Step: 1330... Loss: 1.3917... Val Loss: 1.4164\n",
      "Epoch: 10/20... Step: 1340... Loss: 1.3794... Val Loss: 1.4147\n",
      "Epoch: 10/20... Step: 1350... Loss: 1.3775... Val Loss: 1.4155\n",
      "Epoch: 10/20... Step: 1360... Loss: 1.3818... Val Loss: 1.4140\n",
      "Epoch: 10/20... Step: 1370... Loss: 1.3692... Val Loss: 1.4130\n",
      "Epoch: 10/20... Step: 1380... Loss: 1.4115... Val Loss: 1.4068\n",
      "Epoch: 10/20... Step: 1390... Loss: 1.4172... Val Loss: 1.4057\n",
      "Epoch: 11/20... Step: 1400... Loss: 1.4141... Val Loss: 1.4056\n",
      "Epoch: 11/20... Step: 1410... Loss: 1.4376... Val Loss: 1.4048\n",
      "Epoch: 11/20... Step: 1420... Loss: 1.4131... Val Loss: 1.4029\n",
      "Epoch: 11/20... Step: 1430... Loss: 1.3804... Val Loss: 1.4046\n",
      "Epoch: 11/20... Step: 1440... Loss: 1.4058... Val Loss: 1.4018\n",
      "Epoch: 11/20... Step: 1450... Loss: 1.3448... Val Loss: 1.4002\n",
      "Epoch: 11/20... Step: 1460... Loss: 1.3676... Val Loss: 1.3946\n",
      "Epoch: 11/20... Step: 1470... Loss: 1.3590... Val Loss: 1.3935\n",
      "Epoch: 11/20... Step: 1480... Loss: 1.3711... Val Loss: 1.3949\n",
      "Epoch: 11/20... Step: 1490... Loss: 1.3656... Val Loss: 1.3898\n",
      "Epoch: 11/20... Step: 1500... Loss: 1.3498... Val Loss: 1.3948\n",
      "Epoch: 11/20... Step: 1510... Loss: 1.3410... Val Loss: 1.3919\n",
      "Epoch: 11/20... Step: 1520... Loss: 1.3692... Val Loss: 1.3830\n",
      "Epoch: 12/20... Step: 1530... Loss: 1.4221... Val Loss: 1.3868\n",
      "Epoch: 12/20... Step: 1540... Loss: 1.3803... Val Loss: 1.3823\n",
      "Epoch: 12/20... Step: 1550... Loss: 1.3794... Val Loss: 1.3841\n",
      "Epoch: 12/20... Step: 1560... Loss: 1.3979... Val Loss: 1.3800\n",
      "Epoch: 12/20... Step: 1570... Loss: 1.3409... Val Loss: 1.3833\n",
      "Epoch: 12/20... Step: 1580... Loss: 1.3198... Val Loss: 1.3824\n",
      "Epoch: 12/20... Step: 1590... Loss: 1.3258... Val Loss: 1.3817\n",
      "Epoch: 12/20... Step: 1600... Loss: 1.3474... Val Loss: 1.3782\n",
      "Epoch: 12/20... Step: 1610... Loss: 1.3350... Val Loss: 1.3784\n",
      "Epoch: 12/20... Step: 1620... Loss: 1.3368... Val Loss: 1.3731\n",
      "Epoch: 12/20... Step: 1630... Loss: 1.3623... Val Loss: 1.3715\n",
      "Epoch: 12/20... Step: 1640... Loss: 1.3382... Val Loss: 1.3748\n",
      "Epoch: 12/20... Step: 1650... Loss: 1.3120... Val Loss: 1.3713\n",
      "Epoch: 12/20... Step: 1660... Loss: 1.3756... Val Loss: 1.3664\n",
      "Epoch: 13/20... Step: 1670... Loss: 1.3329... Val Loss: 1.3710\n",
      "Epoch: 13/20... Step: 1680... Loss: 1.3577... Val Loss: 1.3661\n",
      "Epoch: 13/20... Step: 1690... Loss: 1.3224... Val Loss: 1.3660\n",
      "Epoch: 13/20... Step: 1700... Loss: 1.3245... Val Loss: 1.3646\n",
      "Epoch: 13/20... Step: 1710... Loss: 1.3041... Val Loss: 1.3658\n",
      "Epoch: 13/20... Step: 1720... Loss: 1.3117... Val Loss: 1.3685\n",
      "Epoch: 13/20... Step: 1730... Loss: 1.3490... Val Loss: 1.3607\n",
      "Epoch: 13/20... Step: 1740... Loss: 1.3214... Val Loss: 1.3603\n",
      "Epoch: 13/20... Step: 1750... Loss: 1.2859... Val Loss: 1.3618\n",
      "Epoch: 13/20... Step: 1760... Loss: 1.3181... Val Loss: 1.3594\n",
      "Epoch: 13/20... Step: 1770... Loss: 1.3416... Val Loss: 1.3588\n",
      "Epoch: 13/20... Step: 1780... Loss: 1.3106... Val Loss: 1.3595\n",
      "Epoch: 13/20... Step: 1790... Loss: 1.3086... Val Loss: 1.3598\n",
      "Epoch: 13/20... Step: 1800... Loss: 1.3233... Val Loss: 1.3520\n",
      "Epoch: 14/20... Step: 1810... Loss: 1.3263... Val Loss: 1.3590\n",
      "Epoch: 14/20... Step: 1820... Loss: 1.3106... Val Loss: 1.3521\n",
      "Epoch: 14/20... Step: 1830... Loss: 1.3300... Val Loss: 1.3522\n",
      "Epoch: 14/20... Step: 1840... Loss: 1.2869... Val Loss: 1.3495\n",
      "Epoch: 14/20... Step: 1850... Loss: 1.2533... Val Loss: 1.3520\n",
      "Epoch: 14/20... Step: 1860... Loss: 1.3199... Val Loss: 1.3529\n",
      "Epoch: 14/20... Step: 1870... Loss: 1.3323... Val Loss: 1.3482\n",
      "Epoch: 14/20... Step: 1880... Loss: 1.3151... Val Loss: 1.3477\n",
      "Epoch: 14/20... Step: 1890... Loss: 1.3285... Val Loss: 1.3477\n",
      "Epoch: 14/20... Step: 1900... Loss: 1.3119... Val Loss: 1.3460\n",
      "Epoch: 14/20... Step: 1910... Loss: 1.3157... Val Loss: 1.3442\n",
      "Epoch: 14/20... Step: 1920... Loss: 1.3123... Val Loss: 1.3451\n",
      "Epoch: 14/20... Step: 1930... Loss: 1.2671... Val Loss: 1.3444\n",
      "Epoch: 14/20... Step: 1940... Loss: 1.3282... Val Loss: 1.3416\n",
      "Epoch: 15/20... Step: 1950... Loss: 1.3002... Val Loss: 1.3425\n",
      "Epoch: 15/20... Step: 1960... Loss: 1.3017... Val Loss: 1.3412\n",
      "Epoch: 15/20... Step: 1970... Loss: 1.2962... Val Loss: 1.3385\n",
      "Epoch: 15/20... Step: 1980... Loss: 1.2824... Val Loss: 1.3407\n",
      "Epoch: 15/20... Step: 1990... Loss: 1.2822... Val Loss: 1.3389\n",
      "Epoch: 15/20... Step: 2000... Loss: 1.2657... Val Loss: 1.3414\n",
      "Epoch: 15/20... Step: 2010... Loss: 1.2867... Val Loss: 1.3356\n",
      "Epoch: 15/20... Step: 2020... Loss: 1.3035... Val Loss: 1.3343\n",
      "Epoch: 15/20... Step: 2030... Loss: 1.2866... Val Loss: 1.3392\n",
      "Epoch: 15/20... Step: 2040... Loss: 1.2978... Val Loss: 1.3362\n",
      "Epoch: 15/20... Step: 2050... Loss: 1.2765... Val Loss: 1.3334\n",
      "Epoch: 15/20... Step: 2060... Loss: 1.2849... Val Loss: 1.3352\n",
      "Epoch: 15/20... Step: 2070... Loss: 1.2885... Val Loss: 1.3347\n",
      "Epoch: 15/20... Step: 2080... Loss: 1.2828... Val Loss: 1.3323\n",
      "Epoch: 16/20... Step: 2090... Loss: 1.2952... Val Loss: 1.3382\n",
      "Epoch: 16/20... Step: 2100... Loss: 1.2763... Val Loss: 1.3305\n",
      "Epoch: 16/20... Step: 2110... Loss: 1.2665... Val Loss: 1.3293\n",
      "Epoch: 16/20... Step: 2120... Loss: 1.2902... Val Loss: 1.3296\n",
      "Epoch: 16/20... Step: 2130... Loss: 1.2614... Val Loss: 1.3293\n",
      "Epoch: 16/20... Step: 2140... Loss: 1.2700... Val Loss: 1.3283\n",
      "Epoch: 16/20... Step: 2150... Loss: 1.3026... Val Loss: 1.3267\n",
      "Epoch: 16/20... Step: 2160... Loss: 1.2756... Val Loss: 1.3276\n",
      "Epoch: 16/20... Step: 2170... Loss: 1.2681... Val Loss: 1.3292\n",
      "Epoch: 16/20... Step: 2180... Loss: 1.2678... Val Loss: 1.3268\n",
      "Epoch: 16/20... Step: 2190... Loss: 1.2969... Val Loss: 1.3228\n",
      "Epoch: 16/20... Step: 2200... Loss: 1.2610... Val Loss: 1.3242\n",
      "Epoch: 16/20... Step: 2210... Loss: 1.2262... Val Loss: 1.3255\n",
      "Epoch: 16/20... Step: 2220... Loss: 1.2792... Val Loss: 1.3228\n",
      "Epoch: 17/20... Step: 2230... Loss: 1.2578... Val Loss: 1.3266\n",
      "Epoch: 17/20... Step: 2240... Loss: 1.2639... Val Loss: 1.3245\n",
      "Epoch: 17/20... Step: 2250... Loss: 1.2485... Val Loss: 1.3219\n",
      "Epoch: 17/20... Step: 2260... Loss: 1.2591... Val Loss: 1.3187\n",
      "Epoch: 17/20... Step: 2270... Loss: 1.2675... Val Loss: 1.3206\n",
      "Epoch: 17/20... Step: 2280... Loss: 1.2711... Val Loss: 1.3194\n",
      "Epoch: 17/20... Step: 2290... Loss: 1.2589... Val Loss: 1.3178\n",
      "Epoch: 17/20... Step: 2300... Loss: 1.2349... Val Loss: 1.3179\n",
      "Epoch: 17/20... Step: 2310... Loss: 1.2471... Val Loss: 1.3154\n",
      "Epoch: 17/20... Step: 2320... Loss: 1.2429... Val Loss: 1.3164\n",
      "Epoch: 17/20... Step: 2330... Loss: 1.2490... Val Loss: 1.3154\n",
      "Epoch: 17/20... Step: 2340... Loss: 1.2654... Val Loss: 1.3166\n",
      "Epoch: 17/20... Step: 2350... Loss: 1.2718... Val Loss: 1.3140\n",
      "Epoch: 17/20... Step: 2360... Loss: 1.2761... Val Loss: 1.3134\n",
      "Epoch: 18/20... Step: 2370... Loss: 1.2475... Val Loss: 1.3143\n",
      "Epoch: 18/20... Step: 2380... Loss: 1.2453... Val Loss: 1.3139\n",
      "Epoch: 18/20... Step: 2390... Loss: 1.2544... Val Loss: 1.3129\n",
      "Epoch: 18/20... Step: 2400... Loss: 1.2590... Val Loss: 1.3097\n",
      "Epoch: 18/20... Step: 2410... Loss: 1.2630... Val Loss: 1.3107\n",
      "Epoch: 18/20... Step: 2420... Loss: 1.2415... Val Loss: 1.3091\n",
      "Epoch: 18/20... Step: 2430... Loss: 1.2535... Val Loss: 1.3108\n",
      "Epoch: 18/20... Step: 2440... Loss: 1.2392... Val Loss: 1.3125\n",
      "Epoch: 18/20... Step: 2450... Loss: 1.2272... Val Loss: 1.3090\n",
      "Epoch: 18/20... Step: 2460... Loss: 1.2538... Val Loss: 1.3123\n",
      "Epoch: 18/20... Step: 2470... Loss: 1.2490... Val Loss: 1.3128\n",
      "Epoch: 18/20... Step: 2480... Loss: 1.2334... Val Loss: 1.3117\n",
      "Epoch: 18/20... Step: 2490... Loss: 1.2248... Val Loss: 1.3057\n",
      "Epoch: 18/20... Step: 2500... Loss: 1.2355... Val Loss: 1.3076\n",
      "Epoch: 19/20... Step: 2510... Loss: 1.2423... Val Loss: 1.3097\n",
      "Epoch: 19/20... Step: 2520... Loss: 1.2590... Val Loss: 1.3068\n",
      "Epoch: 19/20... Step: 2530... Loss: 1.2541... Val Loss: 1.3060\n",
      "Epoch: 19/20... Step: 2540... Loss: 1.2642... Val Loss: 1.3052\n",
      "Epoch: 19/20... Step: 2550... Loss: 1.2351... Val Loss: 1.3054\n",
      "Epoch: 19/20... Step: 2560... Loss: 1.2413... Val Loss: 1.3034\n",
      "Epoch: 19/20... Step: 2570... Loss: 1.2313... Val Loss: 1.3053\n",
      "Epoch: 19/20... Step: 2580... Loss: 1.2623... Val Loss: 1.3053\n",
      "Epoch: 19/20... Step: 2590... Loss: 1.2254... Val Loss: 1.3026\n",
      "Epoch: 19/20... Step: 2600... Loss: 1.2293... Val Loss: 1.3030\n",
      "Epoch: 19/20... Step: 2610... Loss: 1.2389... Val Loss: 1.3055\n",
      "Epoch: 19/20... Step: 2620... Loss: 1.2082... Val Loss: 1.3043\n",
      "Epoch: 19/20... Step: 2630... Loss: 1.2178... Val Loss: 1.3008\n",
      "Epoch: 19/20... Step: 2640... Loss: 1.2363... Val Loss: 1.3019\n",
      "Epoch: 20/20... Step: 2650... Loss: 1.2410... Val Loss: 1.3058\n",
      "Epoch: 20/20... Step: 2660... Loss: 1.2361... Val Loss: 1.3053\n",
      "Epoch: 20/20... Step: 2670... Loss: 1.2477... Val Loss: 1.3016\n",
      "Epoch: 20/20... Step: 2680... Loss: 1.2365... Val Loss: 1.3018\n",
      "Epoch: 20/20... Step: 2690... Loss: 1.2304... Val Loss: 1.3009\n",
      "Epoch: 20/20... Step: 2700... Loss: 1.2383... Val Loss: 1.2972\n",
      "Epoch: 20/20... Step: 2710... Loss: 1.2112... Val Loss: 1.3010\n",
      "Epoch: 20/20... Step: 2720... Loss: 1.2086... Val Loss: 1.3000\n",
      "Epoch: 20/20... Step: 2730... Loss: 1.2010... Val Loss: 1.2987\n",
      "Epoch: 20/20... Step: 2740... Loss: 1.2008... Val Loss: 1.2990\n",
      "Epoch: 20/20... Step: 2750... Loss: 1.2156... Val Loss: 1.2975\n",
      "Epoch: 20/20... Step: 2760... Loss: 1.2053... Val Loss: 1.2968\n",
      "Epoch: 20/20... Step: 2770... Loss: 1.2373... Val Loss: 1.2936\n",
      "Epoch: 20/20... Step: 2780... Loss: 1.2646... Val Loss: 1.2941\n",
      "Time for training: 152.926 seconds\n",
      "NVIDIA GeForce RTX 3070 Laptop GPU\n",
      " AMD Ryzen 9 5900HX with Radeon Graphics\n"
     ]
    }
   ],
   "source": [
    "batch_size = 128\n",
    "seq_length = 100\n",
    "n_epochs = 20 # start smaller if you are just testing initial behavior\n",
    "\n",
    "# train the model\n",
    "import time\n",
    "start = time.time()\n",
    "\n",
    "train(net, encoded, epochs=n_epochs, batch_size=batch_size, seq_length=seq_length, lr=0.001, print_every=10)\n",
    "\n",
    "print(f\"Time for training: {(time.time() - start):.3f} seconds\")\n",
    "\n",
    "# Print GPU model\n",
    "print(torch.cuda.get_device_name(0))\n",
    "# Print CPU Model\n",
    "import os, platform, subprocess, re\n",
    "\n",
    "def get_processor_name():\n",
    "    if platform.system() == \"Windows\":\n",
    "        return platform.processor()\n",
    "    elif platform.system() == \"Darwin\":\n",
    "        os.environ['PATH'] = os.environ['PATH'] + os.pathsep + '/usr/sbin'\n",
    "        command =\"sysctl -n machdep.cpu.brand_string\"\n",
    "        return subprocess.check_output(command).strip()\n",
    "    elif platform.system() == \"Linux\":\n",
    "        command = \"cat /proc/cpuinfo\"\n",
    "        all_info = subprocess.check_output(command, shell=True).strip().decode('utf-8')\n",
    "        for line in all_info.split(\"\\n\"):\n",
    "            if \"model name\" in line:\n",
    "                return re.sub( \".*model name.*:\", \"\", line,1)\n",
    "    return \"\"\n",
    "\n",
    "print(get_processor_name())"
   ]
  },
  {
   "cell_type": "markdown",
   "metadata": {},
   "source": [
    "## Getting the best model\n",
    "\n",
    "To set your hyperparameters to get the best performance, you'll want to watch the training and validation losses. If your training loss is much lower than the validation loss, you're overfitting. Increase regularization (more dropout) or use a smaller network. If the training and validation losses are close, you're underfitting so you can increase the size of the network."
   ]
  },
  {
   "cell_type": "markdown",
   "metadata": {},
   "source": [
    "## Hyperparameters\n",
    "\n",
    "Here are the hyperparameters for the network.\n",
    "\n",
    "In defining the model:\n",
    "* `n_hidden` - The number of units in the hidden layers.\n",
    "* `n_layers` - Number of hidden LSTM layers to use.\n",
    "\n",
    "We assume that dropout probability and learning rate will be kept at the default, in this example.\n",
    "\n",
    "And in training:\n",
    "* `batch_size` - Number of sequences running through the network in one pass.\n",
    "* `seq_length` - Number of characters in the sequence the network is trained on. Larger is better typically, the network will learn more long range dependencies. But it takes longer to train. 100 is typically a good number here.\n",
    "* `lr` - Learning rate for training\n",
    "\n",
    "Here's some good advice from Andrej Karpathy on training the network. I'm going to copy it in here for your benefit, but also link to [where it originally came from](https://github.com/karpathy/char-rnn#tips-and-tricks).\n",
    "\n",
    "> ## Tips and Tricks\n",
    "\n",
    ">### Monitoring Validation Loss vs. Training Loss\n",
    ">If you're somewhat new to Machine Learning or Neural Networks it can take a bit of expertise to get good models. The most important quantity to keep track of is the difference between your training loss (printed during training) and the validation loss (printed once in a while when the RNN is run on the validation data (by default every 1000 iterations)). In particular:\n",
    "\n",
    "> - If your training loss is much lower than validation loss then this means the network might be **overfitting**. Solutions to this are to decrease your network size, or to increase dropout. For example you could try dropout of 0.5 and so on.\n",
    "> - If your training/validation loss are about equal then your model is **underfitting**. Increase the size of your model (either number of layers or the raw number of neurons per layer)\n",
    "\n",
    "> ### Approximate number of parameters\n",
    "\n",
    "> The two most important parameters that control the model are `n_hidden` and `n_layers`. I would advise that you always use `n_layers` of either 2/3. The `n_hidden` can be adjusted based on how much data you have. The two important quantities to keep track of here are:\n",
    "\n",
    "> - The number of parameters in your model. This is printed when you start training.\n",
    "> - The size of your dataset. 1MB file is approximately 1 million characters.\n",
    "\n",
    ">These two should be about the same order of magnitude. It's a little tricky to tell. Here are some examples:\n",
    "\n",
    "> - I have a 100MB dataset and I'm using the default parameter settings (which currently print 150K parameters). My data size is significantly larger (100 mil >> 0.15 mil), so I expect to heavily underfit. I am thinking I can comfortably afford to make `n_hidden` larger.\n",
    "> - I have a 10MB dataset and running a 10 million parameter model. I'm slightly nervous and I'm carefully monitoring my validation loss. If it's larger than my training loss then I may want to try to increase dropout a bit and see if that helps the validation loss.\n",
    "\n",
    "> ### Best models strategy\n",
    "\n",
    ">The winning strategy to obtaining very good models (if you have the compute time) is to always err on making the network larger (as large as you're willing to wait for it to compute) and then try different dropout values (between 0,1). Whatever model has the best validation performance (the loss, written in the checkpoint filename, low is good) is the one you should use in the end.\n",
    "\n",
    ">It is very common in deep learning to run many different models with many different hyperparameter settings, and in the end take whatever checkpoint gave the best validation performance.\n",
    "\n",
    ">By the way, the size of your training and validation splits are also parameters. Make sure you have a decent amount of data in your validation set or otherwise the validation performance will be noisy and not very informative."
   ]
  },
  {
   "cell_type": "markdown",
   "metadata": {},
   "source": [
    "## Checkpoint\n",
    "\n",
    "After training, we'll save the model so we can load it again later if we need too. Here I'm saving the parameters needed to create the same architecture, the hidden layer hyperparameters and the text characters."
   ]
  },
  {
   "cell_type": "code",
   "execution_count": 17,
   "metadata": {
    "collapsed": true
   },
   "outputs": [],
   "source": [
    "# change the name, for saving multiple files\n",
    "model_name = 'rnn_20_epoch.net'\n",
    "\n",
    "checkpoint = {'n_hidden': net.n_hidden,\n",
    "              'n_layers': net.n_layers,\n",
    "              'state_dict': net.state_dict(),\n",
    "              'tokens': net.chars}\n",
    "\n",
    "with open(model_name, 'wb') as f:\n",
    "    torch.save(checkpoint, f)"
   ]
  },
  {
   "cell_type": "markdown",
   "metadata": {},
   "source": [
    "---\n",
    "## Making Predictions\n",
    "\n",
    "Now that the model is trained, we'll want to sample from it and make predictions about next characters! To sample, we pass in a character and have the network predict the next character. Then we take that character, pass it back in, and get another predicted character. Just keep doing this and you'll generate a bunch of text!\n",
    "\n",
    "### A note on the `predict`  function\n",
    "\n",
    "The output of our RNN is from a fully-connected layer and it outputs a **distribution of next-character scores**.\n",
    "\n",
    "> To actually get the next character, we apply a softmax function, which gives us a *probability* distribution that we can then sample to predict the next character.\n",
    "\n",
    "### Top K sampling\n",
    "\n",
    "Our predictions come from a categorical probability distribution over all the possible characters. We can make the sample text and make it more reasonable to handle (with less variables) by only considering some $K$ most probable characters. This will prevent the network from giving us completely absurd characters while allowing it to introduce some noise and randomness into the sampled text. Read more about [topk, here](https://pytorch.org/docs/stable/torch.html#torch.topk).\n"
   ]
  },
  {
   "cell_type": "code",
   "execution_count": 18,
   "metadata": {
    "collapsed": true
   },
   "outputs": [],
   "source": [
    "def predict(net, char, h=None, top_k=None):\n",
    "        ''' Given a character, predict the next character.\n",
    "            Returns the predicted character and the hidden state.\n",
    "        '''\n",
    "        \n",
    "        # tensor inputs\n",
    "        x = np.array([[net.char2int[char]]])\n",
    "        x = one_hot_encode(x, len(net.chars))\n",
    "        inputs = torch.from_numpy(x)\n",
    "        \n",
    "        if(train_on_gpu):\n",
    "            inputs = inputs.cuda()\n",
    "        \n",
    "        # detach hidden state from history\n",
    "        h = tuple([each.data for each in h])\n",
    "        # get the output of the model\n",
    "        out, h = net(inputs, h)\n",
    "\n",
    "        # get the character probabilities\n",
    "        p = F.softmax(out, dim=1).data\n",
    "        if(train_on_gpu):\n",
    "            p = p.cpu() # move to cpu\n",
    "        \n",
    "        # get top characters\n",
    "        if top_k is None:\n",
    "            top_ch = np.arange(len(net.chars))\n",
    "        else:\n",
    "            p, top_ch = p.topk(top_k)\n",
    "            top_ch = top_ch.numpy().squeeze()\n",
    "        \n",
    "        # select the likely next character with some element of randomness\n",
    "        p = p.numpy().squeeze()\n",
    "        char = np.random.choice(top_ch, p=p/p.sum())\n",
    "        \n",
    "        # return the encoded value of the predicted char and the hidden state\n",
    "        return net.int2char[char], h"
   ]
  },
  {
   "cell_type": "markdown",
   "metadata": {},
   "source": [
    "### Priming and generating text \n",
    "\n",
    "Typically you'll want to prime the network so you can build up a hidden state. Otherwise the network will start out generating characters at random. In general the first bunch of characters will be a little rough since it hasn't built up a long history of characters to predict from."
   ]
  },
  {
   "cell_type": "code",
   "execution_count": 19,
   "metadata": {
    "collapsed": true
   },
   "outputs": [],
   "source": [
    "def sample(net, size, prime='The', top_k=None):\n",
    "        \n",
    "    if(train_on_gpu):\n",
    "        net.cuda()\n",
    "    else:\n",
    "        net.cpu()\n",
    "    \n",
    "    net.eval() # eval mode\n",
    "    \n",
    "    # First off, run through the prime characters\n",
    "    chars = [ch for ch in prime]\n",
    "    h = net.init_hidden(1)\n",
    "    for ch in prime:\n",
    "        char, h = predict(net, ch, h, top_k=top_k)\n",
    "\n",
    "    chars.append(char)\n",
    "    \n",
    "    # Now pass in the previous character and get a new one\n",
    "    for ii in range(size):\n",
    "        char, h = predict(net, chars[-1], h, top_k=top_k)\n",
    "        chars.append(char)\n",
    "\n",
    "    return ''.join(chars)"
   ]
  },
  {
   "cell_type": "code",
   "execution_count": 20,
   "metadata": {},
   "outputs": [
    {
     "name": "stdout",
     "output_type": "stream",
     "text": [
      "Anna, her house and all\n",
      "with the\n",
      "children ashed on the most old feeling of him.\n",
      "\n",
      "She was a bold after the same, she had said about the parant and that stripped of its lady and her face, and she dad see him that that he had been thought of a letser, and the stupid of the family too that he\n",
      "would believe\n",
      "that the peasants\n",
      "and a people was sitting at to both all together the desise for him, and that they were a statest of his hands, who had no little fingers and\n",
      "the same sense of that passionabee\n",
      "of the corridor, but the contrary.\n",
      "\n",
      "\"That's a sunsiet for my feelings....\n",
      "When you know!\n",
      "I see your friends a men of course,. I deleven\n",
      "merelies, I say the such than, and the carriage are singer of it. I shall\n",
      "ground them to be all the sight of\n",
      "the\n",
      "carriage in it, it is, but the provided walks abend in the first of the\n",
      "contemptual. It was it with\n",
      "my fact, as though.\n",
      "\n",
      "\"What wants is that you say sight, you could not go into\n",
      "her,\" he said in his hister as an\n",
      "enstant and silence in his, and her horses to\n"
     ]
    }
   ],
   "source": [
    "print(sample(net, 1000, prime='Anna', top_k=5))"
   ]
  },
  {
   "cell_type": "markdown",
   "metadata": {},
   "source": [
    "## Loading a checkpoint"
   ]
  },
  {
   "cell_type": "code",
   "execution_count": 21,
   "metadata": {
    "collapsed": true
   },
   "outputs": [
    {
     "data": {
      "text/plain": [
       "<All keys matched successfully>"
      ]
     },
     "execution_count": 21,
     "metadata": {},
     "output_type": "execute_result"
    }
   ],
   "source": [
    "# Here we have loaded in a model that trained over 20 epochs `rnn_20_epoch.net`\n",
    "with open('rnn_20_epoch.net', 'rb') as f:\n",
    "    checkpoint = torch.load(f)\n",
    "    \n",
    "loaded = CharRNN(checkpoint['tokens'], n_hidden=checkpoint['n_hidden'], n_layers=checkpoint['n_layers'])\n",
    "loaded.load_state_dict(checkpoint['state_dict'])"
   ]
  },
  {
   "cell_type": "code",
   "execution_count": 22,
   "metadata": {},
   "outputs": [
    {
     "name": "stdout",
     "output_type": "stream",
     "text": [
      "And Levin said to him to\n",
      "be to see him and\n",
      "seemed at that son, and the fact with seeing his sunger on him in the poor and the money and,\n",
      "which was in\n",
      "how and\n",
      "to be sure, and that it was a conversation as a since with her, he had that she would go to a possibile to throw that women they had been.\n",
      "\n",
      "\"I will not come to the stath. I don't stop my, I don't\n",
      "know what you show this,\" he said to the subject and help and said.\n",
      "\n",
      "\"That's the same importance,\" had seemed to him.\n",
      "\n",
      "\"It's the more than all the\n",
      "same fercons. I suppose I say that his feeling.\" He saw him\n",
      "straight. She was a book, and seeing her hands. He could not say. Somenovers with a lot of hair at the table, there were cross of a counting, sering free to her husband.\n",
      "\n",
      "\"And to tell you he's to child, I shall be only to say it.\"\n",
      "\n",
      "\"With me, yes, indeed you know what I can can't be\n",
      "so,\n",
      "you could see him work! They\n",
      "won't be so saying you to see him, a change of\n",
      "the conversation,\" answered\n",
      "Stepan Arkadyevitch; \"then he's all the same in the wish of\n",
      "many feelings that that some husbands, and\n",
      "she's a little children\n",
      "and thinks to make anyone at the steps, and he saw the\n",
      "sight of the might said and saw that he has been\n",
      "saying; I was all the people,\n",
      "all of her family, an ound day in his soul. If it's as already,\" he thought, and was some and a state, she was\n",
      "standing in the peasants of the\n",
      "darence, he went at all\n",
      "at him when he was silent. The chourd he was coming to him. The conscious of the handsome cross of the sound\n",
      "his face at the court, together, shining at the box, sold with wording-horses, which was teerful all, when he said so that he was anywhere, and to her suffering, and the coldnes and thoughts went and stifled hinsictly\n",
      "and completely feeling that he had no definite shrople and side, with an old professor of the same state of all his sentan of\n",
      "any distinct throats, too, was the\n",
      "colonel and something trees.\n",
      "\n",
      "\"Yes, yes.\" He could\n",
      "not begin to give it, and she did not go to her.... His better, whom he\n",
      "had not been asking this\n"
     ]
    }
   ],
   "source": [
    "# Sample using a loaded model\n",
    "print(sample(loaded, 2000, top_k=5, prime=\"And Levin said\"))"
   ]
  }
 ],
 "metadata": {
  "kernelspec": {
   "display_name": "Python [default]",
   "language": "python",
   "name": "python3"
  },
  "language_info": {
   "codemirror_mode": {
    "name": "ipython",
    "version": 3
   },
   "file_extension": ".py",
   "mimetype": "text/x-python",
   "name": "python",
   "nbconvert_exporter": "python",
   "pygments_lexer": "ipython3",
   "version": "3.9.5"
  }
 },
 "nbformat": 4,
 "nbformat_minor": 2
}
